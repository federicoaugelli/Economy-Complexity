{
 "cells": [
  {
   "cell_type": "code",
   "execution_count": 1,
   "id": "bbdaa6db-3f24-4e33-8d78-8a5d920b38ef",
   "metadata": {},
   "outputs": [],
   "source": [
    "from urllib.parse import urlencode\n",
    "\n",
    "import economic_complexity as ecplx\n",
    "import numpy as np\n",
    "import pandas as pd"
   ]
  },
  {
   "cell_type": "code",
   "execution_count": 2,
   "id": "79b6605f-8257-416e-aefd-3662ff887697",
   "metadata": {},
   "outputs": [],
   "source": [
    "def request_data(params):\n",
    "    url = \"https://dev.oec.world/olap-proxy/data.csv?{}\".format(urlencode(params))\n",
    "    return pd.read_csv(url)"
   ]
  },
  {
   "cell_type": "code",
   "execution_count": 2,
   "id": "efe06106-b5e4-4b66-ad00-aa6b21b130e8",
   "metadata": {},
   "outputs": [],
   "source": [
    "# Sum of Exports by Country and HS92 Level 4 Code between 2016 and 2018\n",
    "df_trade= pd.read_csv(\"https://app-tiger.oec.world/olap-proxy/data.csv?cube=trade_i_baci_a_92&measures=Trade%20Value&drilldowns=Exporter%20Country,HS4&Year=2016,2017,2018\")\n",
    "\n",
    "# World Population by Country for Year 2018\n",
    "df_wdi = pd.read_csv(\"https://app-tiger.oec.world/olap-proxy/data.csv?cube=indicators_i_wdi_a&measures=Measure&drilldowns=Country&Indicator=SP.POP.TOTL&Year=2018\")"
   ]
  },
  {
   "cell_type": "code",
   "execution_count": 3,
   "id": "0a06b9c6-c700-46dc-8fbd-030df9537a4f",
   "metadata": {},
   "outputs": [
    {
     "name": "stdout",
     "output_type": "stream",
     "text": [
      "       Country ID    Country  HS4 ID                HS4  Trade Value\n",
      "0           afago     Angola   10101             Horses        615.0\n",
      "1           afago     Angola   10102             Bovine      23491.0\n",
      "2           afago     Angola   10103               Pigs        593.0\n",
      "3           afago     Angola   10104    Sheep and Goats       3264.0\n",
      "4           afago     Angola   10105            Poultry       9879.0\n",
      "...           ...        ...     ...                ...          ...\n",
      "201595      saven  Venezuela  219702             Prints     619426.0\n",
      "201596      saven  Venezuela  219703         Sculptures    9290086.0\n",
      "201597      saven  Venezuela  219704     Revenue Stamps       1434.0\n",
      "201598      saven  Venezuela  219705  Collector's Items    1414813.0\n",
      "201599      saven  Venezuela  219706           Antiques      12908.0\n",
      "\n",
      "[201600 rows x 5 columns]\n",
      "<class 'pandas.core.frame.DataFrame'>\n",
      "RangeIndex: 220 entries, 0 to 219\n",
      "Data columns (total 3 columns):\n",
      " #   Column      Non-Null Count  Dtype \n",
      "---  ------      --------------  ----- \n",
      " 0   Country ID  220 non-null    object\n",
      " 1   Country     220 non-null    object\n",
      " 2   Measure     220 non-null    int64 \n",
      "dtypes: int64(1), object(2)\n",
      "memory usage: 5.3+ KB\n"
     ]
    }
   ],
   "source": [
    "#df_trade.info()\n",
    "print(df_trade)\n",
    "df_wdi.info()"
   ]
  },
  {
   "cell_type": "code",
   "execution_count": 4,
   "id": "756edc5f-aad6-4452-bd81-f75751a38b1d",
   "metadata": {},
   "outputs": [],
   "source": [
    "df = df_trade.copy()\n",
    "\n",
    "# Countries with more than 1M habitants\n",
    "df_population = df_wdi[df_wdi['Measure'] > 1000000]\n",
    "# Products with more than $1.5B in global exports between 2016-2018\n",
    "df_products = df.groupby('HS4 ID')['Trade Value'].sum().reset_index()\n",
    "df_products = df_products[df_products['Trade Value'] > 3*500000000]\n",
    "# Countries with more than $3B in global exports between 2016-2018\n",
    "df_countries = df.groupby('Country ID')['Trade Value'].sum().reset_index()\n",
    "df_countries = df_countries[df_countries['Trade Value'] > 3*1000000000]\n",
    "\n",
    "df_filter  = df[\n",
    "  (df['Country ID'].isin(df_population['Country ID'])) &\n",
    "  (df['Country ID'].isin(df_countries['Country ID'])) & \n",
    "  (df['HS4 ID'].isin(df_products['HS4 ID']))\n",
    "]\n",
    "\n"
   ]
  },
  {
   "cell_type": "code",
   "execution_count": 5,
   "id": "fb916cb5-9c77-47a2-bbac-5648595cc188",
   "metadata": {},
   "outputs": [
    {
     "name": "stdout",
     "output_type": "stream",
     "text": [
      "<class 'pandas.core.frame.DataFrame'>\n",
      "Index: 136787 entries, 0 to 201599\n",
      "Data columns (total 5 columns):\n",
      " #   Column       Non-Null Count   Dtype  \n",
      "---  ------       --------------   -----  \n",
      " 0   Country ID   136787 non-null  object \n",
      " 1   Country      136787 non-null  object \n",
      " 2   HS4 ID       136787 non-null  int64  \n",
      " 3   HS4          136787 non-null  object \n",
      " 4   Trade Value  136787 non-null  float64\n",
      "dtypes: float64(1), int64(1), object(3)\n",
      "memory usage: 6.3+ MB\n"
     ]
    }
   ],
   "source": [
    "df_filter.info()"
   ]
  },
  {
   "cell_type": "code",
   "execution_count": 7,
   "id": "f2233e55-e7f5-4d56-b523-d3489e958d38",
   "metadata": {},
   "outputs": [],
   "source": [
    "df_pivot = pd.pivot_table(df_filter, index=['Country'],\n",
    "                                     columns=['HS4 ID'],\n",
    "                                     values='Trade Value')\\\n",
    "             .reset_index()\\\n",
    "             .set_index('Country')\\\n",
    "             .dropna(axis=1, how=\"all\")\\\n",
    "             .fillna(0)\\\n",
    "             .astype(float)\n"
   ]
  },
  {
   "cell_type": "code",
   "execution_count": 9,
   "id": "3cc6f0f6-3e29-43b9-8cf8-120f46ccded4",
   "metadata": {},
   "outputs": [],
   "source": [
    "rca = ecplx.rca(df_pivot)\n",
    "ECI, PCI = ecplx.complexity(rca)"
   ]
  },
  {
   "cell_type": "code",
   "execution_count": 10,
   "id": "48522dfc-7a9e-4f9d-8d31-983a320190dd",
   "metadata": {},
   "outputs": [
    {
     "data": {
      "text/plain": [
       "Country\n",
       "Japan               2.389178\n",
       "Chinese Taipei      2.183193\n",
       "Switzerland         2.085713\n",
       "South Korea         2.019607\n",
       "Germany             1.984514\n",
       "                      ...   \n",
       "Nigeria            -1.648391\n",
       "Papua New Guinea   -1.738730\n",
       "Iraq               -1.870009\n",
       "South Sudan        -2.240257\n",
       "Chad               -2.547961\n",
       "Length: 148, dtype: float64"
      ]
     },
     "execution_count": 10,
     "metadata": {},
     "output_type": "execute_result"
    }
   ],
   "source": [
    "ECI.sort_values(ascending=False)"
   ]
  },
  {
   "cell_type": "code",
   "execution_count": null,
   "id": "d3cee9de-5728-41d9-8b75-57e07b7d15e8",
   "metadata": {},
   "outputs": [],
   "source": []
  }
 ],
 "metadata": {
  "kernelspec": {
   "display_name": "Python 3 (ipykernel)",
   "language": "python",
   "name": "python3"
  },
  "language_info": {
   "codemirror_mode": {
    "name": "ipython",
    "version": 3
   },
   "file_extension": ".py",
   "mimetype": "text/x-python",
   "name": "python",
   "nbconvert_exporter": "python",
   "pygments_lexer": "ipython3",
   "version": "3.11.4"
  }
 },
 "nbformat": 4,
 "nbformat_minor": 5
}
